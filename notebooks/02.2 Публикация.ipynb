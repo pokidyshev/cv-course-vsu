{
 "cells": [
  {
   "cell_type": "markdown",
   "metadata": {},
   "source": [
    "# Публикуем fastai модель\n",
    "\n",
    "## Render\n",
    "\n",
    "Выбираем render, потому что он работает без кредиток и смс.\n",
    "\n",
    "1. Сделай fork https://github.com/render-examples/fastai-v3 в свой аккаунт на GitHub.\n",
    "2. Зайди на [Render](https://render.com/i/fastai-v3) и зарегиструйся через свой аккаунт на GitHub. Дай доступ к репозиторию с форком.\n",
    "3. Загрузи `export.pkl` из предыдущей тетрадки в Google Drive или Dropbox и сгенерируй ПРЯМУЮ ссылку на загрузку модели одним из этих сервисов: [gdrive](https://www.wonderplugin.com/online-tools/google-drive-direct-link-generator/) | [dropbox](https://syncwithtech.blogspot.com/p/direct-download-link-generator.html).\n",
    "4. В файле `server.py` замени `export_file_url` на свою ссылку, и `classes` на свои классы.\n",
    "5. Commit & push.\n",
    "6. Создай веб-сервис на render из своего репозитория (надо будет дать разрешение на его чтение), задай имя и нажми Save (еще он предложит выбрать тарифный план, но т.к. мы кредитку не прикрепляем, можешь на этот счет не переживать, __главное не забудь после использования выключить сервер__). Всё! Как только сервис запустится, он будет доступен по адресу: https://service-name.onrender.com"
   ]
  },
  {
   "cell_type": "markdown",
   "metadata": {},
   "source": [
    "## Тестировать локально\n",
    "\n",
    "Запусти эту команду в терминале:\n",
    "```\n",
    "python app/server.py serve\n",
    "```\n",
    "\n",
    "Если у тебя есть Docker, то можешь запустить в том же образе, который использует Render:\n",
    "```\n",
    "sudo docker build -t fastai-v3 . && docker run --rm -it -p 5000:5000 fastai-v3\n",
    "```\n",
    "\n",
    "Перейди на http://localhost:5000/ чтобы протестировать приложение."
   ]
  }
 ],
 "metadata": {
  "kernelspec": {
   "display_name": "Python 3",
   "language": "python",
   "name": "python3"
  },
  "language_info": {
   "codemirror_mode": {
    "name": "ipython",
    "version": 3
   },
   "file_extension": ".py",
   "mimetype": "text/x-python",
   "name": "python",
   "nbconvert_exporter": "python",
   "pygments_lexer": "ipython3",
   "version": "3.7.3"
  }
 },
 "nbformat": 4,
 "nbformat_minor": 2
}
