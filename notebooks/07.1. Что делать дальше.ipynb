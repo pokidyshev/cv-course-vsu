{
 "cells": [
  {
   "cell_type": "markdown",
   "metadata": {},
   "source": [
    "# Что делать дальше?"
   ]
  },
  {
   "cell_type": "markdown",
   "metadata": {},
   "source": [
    "# Курсы\n",
    "\n",
    "С них стоит начать! Это самый простой способ быстро прокачаться в теме!\n",
    "\n",
    "## Если знаешь английский:\n",
    "На уровне \"понимаю 99% информации на слух\".\n",
    "\n",
    "### Это, на мой взгляд, самые лучшие курсы по теме:\n",
    "\n",
    "1. Начинай с этого легендарного стэнфордского курса Andrew Ng: https://coursera.org/learn/machine-learning\n",
    "2. Затем переходи к специализации по глубинному обучению от того же Ына и его команды deeplearning.ai: https://coursera.org/specializations/deep-learning\n",
    "\n",
    "Плюсы: прекрасный преподаватель, интуитивная подача материала, курсы не требуют практически никакой базы (объясняется все вплоть до школьных производных). Минусы: первый курс на Matlab (этот язык вы скорее всего за пределами курса использовать не будете).\n",
    "\n",
    "### Альтернативный вариант —— курсы \"для кодеров\" от Jeremy Howard \n",
    "Jeremy Howard в прошлом —— топ-1 на Kaggle и президент Kaggle)\n",
    "\n",
    "1. Начать с курса по машинному обучению: http://course18.fast.ai/ml\n",
    "2. Затем пройти самый практико-ориентированный курс по глубинному обучению: https://course.fast.ai\n",
    "3. И дошлифовать все второй частью \"для продвинутых\": https://course.fast.ai/part2\n",
    "\n",
    "Плюсы: прекрасный преподаватель, первые результаты на практике вы получите очень быстро. Минусы: из-за top-down подхода до конца курса не будет полного понимания, как и почему работают алгоритмы, фреймворк fast.ai вы скорее всего за пределами курса и Kaggle использовать не будете.\n",
    "\n",
    "### Альтернативный вариант –– компьютерное зрение от Стэнфорда\n",
    "\n",
    "1. Классический курс CS231N от Стэнфорда: http://cs231n.stanford.edu\n",
    "\n",
    "## Если знаешь только русский:\n",
    "\n",
    "### Лучшие курсы на русском от ВШЭ и Яндекса\n",
    "\n",
    "1. Основы: https://ru.coursera.org/specializations/machine-learning-data-analysis\n",
    "2. Для продвинутых: https://ru.coursera.org/specializations/aml\n",
    "\n",
    "Плюсы: легендарные преподы из Вышки и Яндекса. Минусы: довольно много математики, может быть сложно без хорошей базы.\n",
    "\n",
    "### Альтернативный курс от сообщества ODS\n",
    "\n",
    "1. Этот курс есть как на английском, так и на русском: https://mlcourse.ai/"
   ]
  },
  {
   "cell_type": "markdown",
   "metadata": {},
   "source": [
    "# Книги\n",
    "\n",
    "1. ML: [Hastie, Tibshirani \"The Elements of Statistical Learning\"](https://web.stanford.edu/~hastie/Papers/ESLII.pdf)\n",
    "2. DL: http://www.deeplearningbook.org/"
   ]
  },
  {
   "cell_type": "markdown",
   "metadata": {},
   "source": [
    "# Kaggle\n",
    "\n",
    "Параллельно с курсами рекомендую решать соревнования на kaggle.com —— это отличный опыт для трудоустройства\n",
    "\n",
    "* [Approaching (Almost) Any Machine Learning Problem](http://blog.kaggle.com/2016/07/21/approaching-almost-any-machine-learning-problem-abhishek-thakur/)\n",
    "\n",
    "\n",
    "* [How to Rank 10% in Your First Kaggle Competition](https://dnc1994.com/2016/05/rank-10-percent-in-first-kaggle-competition-en/)\n",
    "\n",
    "\n",
    "* [Beating Kaggle the easy way](http://www.ke.tu-darmstadt.de/lehre/arbeiten/studien/2015/Dong_Ying.pdf)\n",
    "\n",
    "\n",
    "* [Complete Solution: How I got in Top 11% of Kaggle Telstra Competition?](https://www.analyticsvidhya.com/blog/2016/03/complete-solution-top-11-telstra-network-disruptions-kaggle-competition/)\n",
    "\n",
    "* [Канал зарешек](https://www.youtube.com/channel/UCeq6ZIlvC9SVsfhfKnSvM9w)"
   ]
  },
  {
   "cell_type": "markdown",
   "metadata": {},
   "source": [
    "# Работа\n",
    "\n",
    "* [Вопросы к интервью](http://www.itshared.org/2015/10/data-science-interview-questions.html) от Алексея Григорьева\n",
    "* Еще [100 вопросов](https://www.dezyre.com/article/100-data-science-interview-questions-and-answers-general-for-2017/184)\n",
    "\n",
    "# Проекты\n",
    "\n",
    "* Идеи для [стартапов](https://github.com/JosPolfliet/awesome-datascience-ideas/blob/master/README.md)!\n",
    "* Идеи для дипломов: http://cs229.stanford.edu/projects.html"
   ]
  },
  {
   "cell_type": "markdown",
   "metadata": {},
   "source": [
    "# Коммьюнити\n",
    "\n",
    "Самое большое русскоязычное комьюнити (обязательно вступить): [ods.ai](https://www.ods.ai)"
   ]
  }
 ],
 "metadata": {
  "kernelspec": {
   "display_name": "Python 3",
   "language": "python",
   "name": "python3"
  },
  "language_info": {
   "codemirror_mode": {
    "name": "ipython",
    "version": 3
   },
   "file_extension": ".py",
   "mimetype": "text/x-python",
   "name": "python",
   "nbconvert_exporter": "python",
   "pygments_lexer": "ipython3",
   "version": "3.7.3"
  },
  "toc": {
   "colors": {
    "hover_highlight": "#DAA520",
    "running_highlight": "#FF0000",
    "selected_highlight": "#FFD700"
   },
   "moveMenuLeft": true,
   "nav_menu": {
    "height": "156px",
    "width": "252px"
   },
   "navigate_menu": true,
   "number_sections": true,
   "sideBar": true,
   "threshold": 4,
   "toc_cell": false,
   "toc_section_display": "block",
   "toc_window_display": false
  }
 },
 "nbformat": 4,
 "nbformat_minor": 2
}
