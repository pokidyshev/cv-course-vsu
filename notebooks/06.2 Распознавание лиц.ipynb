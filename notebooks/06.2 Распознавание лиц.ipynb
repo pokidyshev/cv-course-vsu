{
 "cells": [
  {
   "cell_type": "markdown",
   "metadata": {},
   "source": [
    "# Face Recognition\n",
    "\n",
    "В этой домашке вам предстоит построить систему распознавания лиц. При работе с лицами существует 2 типа задач:\n",
    "- **Face Verification** отвечает на вопрос: действительно ли на изображении находится этот человек? Пример: пропуск по паспорту + FV. \n",
    "- **Face Recognition** отвечает на вопрос: кто находится на изображении? Пример: пропуск без документов.\n",
    "\n",
    "Сеть FaceNet позволяет закодировать лицо вектором из 128 чисел (активации). Сравнивая 2 таких вектора можно определить принадлежат ли они одному человеку или разным. Мы будем использовать предобученную сеть."
   ]
  },
  {
   "cell_type": "code",
   "execution_count": 1,
   "metadata": {},
   "outputs": [
    {
     "name": "stderr",
     "output_type": "stream",
     "text": [
      "Using TensorFlow backend.\n"
     ]
    }
   ],
   "source": [
    "import warnings\n",
    "warnings.filterwarnings('ignore')\n",
    "\n",
    "from PIL import Image\n",
    "\n",
    "from keras import backend as K\n",
    "\n",
    "K.set_image_data_format('channels_first')\n",
    "from keras_face.library.fr_utils import *\n",
    "from keras_face.library.inception_blocks_v2 import *\n",
    "\n",
    "np.set_printoptions(threshold=np.nan)"
   ]
  },
  {
   "cell_type": "markdown",
   "metadata": {},
   "source": [
    "## Наивное распознавание лиц\n",
    "\n",
    "<img src=\"images/pixel_comparison.png\" style=\"width:380px;height:150px;\">\n",
    "    \n",
    "Это не работает потому что значения пикселей сильно изменяются в зависимости от освещения, положения камеры и лица.\n",
    "\n",
    "Поэтому вместо сырого изображения лучше использовать кодировку $f(img)$, которая нивелирует эти эффекты."
   ]
  },
  {
   "cell_type": "markdown",
   "metadata": {},
   "source": [
    "## Кодируем изображения лиц вектором\n",
    "\n",
    "### Используем сверточную сеть для вычисления кодировок\n",
    "\n",
    "Модель FaceNet очень долго учить, поэтому берем готовую (обычная практика в DL). Архитектура у нее похожа на Inception (можно посмотреть в файле `inception_blocks.py`)\n",
    "\n",
    "Основные факты:\n",
    "- На входе m RGB картинок $96x96$: tensor of shape $(m, n_C, n_H, n_W) = (m, 3, 96, 96)$ \n",
    "- На выходе матрица $(m, 128)$, кодирующая эти картинки вектором размера 128"
   ]
  },
  {
   "cell_type": "markdown",
   "metadata": {},
   "source": [
    "Кодировки можно использовать для сравнения лиц:\n",
    "\n",
    "<img src=\"images/distance_kiank.png\" style=\"width:680px;height:250px;\">"
   ]
  },
  {
   "cell_type": "markdown",
   "metadata": {},
   "source": [
    "Пример:\n",
    "\n",
    "<img src=\"images/distance_matrix.png\" style=\"width:380px;height:200px;\">"
   ]
  },
  {
   "cell_type": "markdown",
   "metadata": {},
   "source": [
    "Кодировки должны удовлетворять требованиям:\n",
    "- Кодировки 2х изображений одного человека похожи\n",
    "- Кодировки 2х изображений разных людей сильно отличаются\n",
    "\n",
    "Эти требования формализуются при помощи специальной функции потерь – triplet loss. \n",
    "\n",
    "<img src=\"images/triplet_comparison.png\" style=\"width:280px;height:150px;\">\n",
    "<br>\n",
    "<caption><center> <u> <font color='purple'> </u> <font color='purple'> Pictures from left to right: Anchor (A), Positive (P), Negative (N)  </center></caption>"
   ]
  },
  {
   "cell_type": "markdown",
   "metadata": {},
   "source": [
    "### Triplet Loss\n",
    "\n",
    "<img src=\"images/f_x.png\" style=\"width:380px;height:150px;\">\n",
    "\n",
    "<!--\n",
    "No $\\mid \\mid f(x) \\mid \\mid_2 = 1$\n",
    "!-->"
   ]
  },
  {
   "cell_type": "markdown",
   "metadata": {},
   "source": [
    "Во время обучения примеры подаются триплетами $(A, P, N)$:  \n",
    "\n",
    "- A - \"Anchor\" - изображение человека. \n",
    "- P - \"Positive\" - другое изображение того же человека.\n",
    "- N - \"Negative\" - изображение другого человека.\n",
    "\n",
    "$(A^{(i)}, P^{(i)}, N^{(i)})$ - $i$-й пример"
   ]
  },
  {
   "cell_type": "markdown",
   "metadata": {},
   "source": [
    "Изображение $A^{(i)}$ должно быть ближе к $P^{(i)}$, чем к $N^{(i)}$ хотя бы на $\\alpha$:\n",
    "\n",
    "$$\\mid \\mid f(A^{(i)}) - f(P^{(i)}) \\mid \\mid_2^2 + \\alpha < \\mid \\mid f(A^{(i)}) - f(N^{(i)}) \\mid \\mid_2^2$$"
   ]
  },
  {
   "cell_type": "markdown",
   "metadata": {},
   "source": [
    "Минимизируем \"triplet cost\":\n",
    "\n",
    "$$\\mathcal{J} = \\sum^{m}_{i=1} \\large[ \\small \\underbrace{\\mid \\mid f(A^{(i)}) - f(P^{(i)}) \\mid \\mid_2^2}_\\text{(1)} - \\underbrace{\\mid \\mid f(A^{(i)}) - f(N^{(i)}) \\mid \\mid_2^2}_\\text{(2)} + \\alpha \\large ] \\small_+ \\tag{3}$$\n",
    "\n",
    "- \"$[z]_+$\" == $max(z,0)$ \n",
    "- $\\alpha$ – hyperparameter (возьмем $\\alpha = 0.2$)"
   ]
  },
  {
   "cell_type": "markdown",
   "metadata": {},
   "source": [
    "**Задание 1**: Реализовать triplet loss.\n",
    "\n",
    "Вам понадобится: `tf.reduce_sum()`, `tf.square()`, `tf.subtract()`, `tf.add()`, `tf.maximum()`."
   ]
  },
  {
   "cell_type": "code",
   "execution_count": 2,
   "metadata": {},
   "outputs": [],
   "source": [
    "def triplet_loss(y_true, y_pred, alpha=0.2):\n",
    "    \"\"\"\n",
    "    Implementation of the triplet loss as defined by formula (3)\n",
    "\n",
    "    Arguments:\n",
    "    y_true -- true labels, required when you define a loss in Keras, you don't need it in this function.\n",
    "    y_pred -- python list containing three objects:\n",
    "            anchor -- the encodings for the anchor images, of shape (None, 128)\n",
    "            positive -- the encodings for the positive images, of shape (None, 128)\n",
    "            negative -- the encodings for the negative images, of shape (None, 128)\n",
    "\n",
    "    Returns:\n",
    "    loss -- real number, value of the loss\n",
    "    \"\"\"\n",
    "\n",
    "    anchor, positive, negative = y_pred[0], y_pred[1], y_pred[2]\n",
    "\n",
    "    # Step 1: Compute the (encoding) distance between the anchor and the positive, you will need to sum over axis=-1\n",
    "    pos_dist = K.sum(K.square(anchor - positive), axis=-1)\n",
    "    # Step 2: Compute the (encoding) distance between the anchor and the negative, you will need to sum over axis=-1\n",
    "    neg_dist = K.sum(K.square(anchor - negative), axis=-1)\n",
    "    # Step 3: subtract the two previous distances and add alpha.\n",
    "    basic_loss = pos_dist - neg_dist + alpha\n",
    "    # Step 4: Take the maximum of basic_loss and 0.0. Sum over the training examples.\n",
    "    loss = K.sum(K.maximum(basic_loss, 0))\n",
    "\n",
    "    return loss"
   ]
  },
  {
   "cell_type": "code",
   "execution_count": 3,
   "metadata": {},
   "outputs": [
    {
     "name": "stdout",
     "output_type": "stream",
     "text": [
      "loss = 528.143\n"
     ]
    }
   ],
   "source": [
    "def triplet_loss_test():\n",
    "    with tf.Session() as test:\n",
    "        tf.set_random_seed(1)\n",
    "        y_true = (None, None, None)\n",
    "        y_pred = (tf.random_normal([3, 128], mean=6, stddev=0.1, seed=1),\n",
    "                  tf.random_normal([3, 128], mean=1, stddev=1, seed=1),\n",
    "                  tf.random_normal([3, 128], mean=3, stddev=4, seed=1))\n",
    "        loss = triplet_loss(y_true, y_pred)\n",
    "\n",
    "        print(\"loss = \" + str(loss.eval()))\n",
    "        \n",
    "triplet_loss_test()"
   ]
  },
  {
   "cell_type": "markdown",
   "metadata": {},
   "source": [
    "**Expected Output**:\n",
    "\n",
    "<table>\n",
    "    <tr>\n",
    "        <td>\n",
    "            loss = 528.143\n",
    "        </td>\n",
    "    </tr>\n",
    "</table>"
   ]
  },
  {
   "cell_type": "markdown",
   "metadata": {},
   "source": [
    "Сама модель:"
   ]
  },
  {
   "cell_type": "code",
   "execution_count": 4,
   "metadata": {},
   "outputs": [],
   "source": [
    "class FaceNet(object):\n",
    "    def __init__(self):\n",
    "        self.model = None\n",
    "\n",
    "    def load_model(self, model_dir_path):\n",
    "        self.model = faceRecoModel(input_shape=(3, 96, 96))\n",
    "        print(\"Total Params:\", self.model.count_params())\n",
    "        self.model.compile(optimizer='adam', loss=triplet_loss, metrics=['accuracy'])\n",
    "        load_weights_from_FaceNet(self.model, model_dir_path)\n",
    "\n",
    "    def img_to_encoding(self, image_path):\n",
    "        return img_to_encoding(image_path, self.model)\n",
    "\n",
    "    def verify(self, image_path, identity, database, threshold=None):\n",
    "        \"\"\"\n",
    "        Function that verifies if the person on the \"image_path\" image is \"identity\".\n",
    "\n",
    "        Arguments:\n",
    "        image_path -- path to an image\n",
    "        identity -- string, name of the person you'd like to verify the identity. Has to be a resident of the Happy house.\n",
    "        database -- python dictionary mapping names of allowed people's names (strings) to their encodings (vectors).\n",
    "        model -- your Inception model instance in Keras\n",
    "\n",
    "        Returns:\n",
    "        dist -- distance between the image_path and the image of \"identity\" in the database.\n",
    "        door_open -- True, if the door should open. False otherwise.\n",
    "        \"\"\"\n",
    "\n",
    "        if threshold is None:\n",
    "            threshold = 0.7\n",
    "\n",
    "        # Step 1: Compute the encoding for the image. Use img_to_encoding() see example above. (≈ 1 line)\n",
    "        encoding = img_to_encoding(image_path, self.model)\n",
    "\n",
    "        # Step 2: Compute distance with identity's image (≈ 1 line)\n",
    "        dist = float(np.linalg.norm(encoding - database[identity]))\n",
    "\n",
    "        # Step 3: Open the door if dist < threshold, else don't open (≈ 3 lines)\n",
    "        is_valid = dist < threshold\n",
    "        if is_valid:\n",
    "            print(\"It's \" + str(identity))\n",
    "        else:\n",
    "            print(\"It's not \" + str(identity))\n",
    "\n",
    "        return dist, is_valid\n",
    "\n",
    "    def who_is_it(self, image_path, database, threshold=None):\n",
    "        \"\"\"\n",
    "        Implements face recognition for the happy house by finding who is the person on the image_path image.\n",
    "\n",
    "        Arguments:\n",
    "        image_path -- path to an image\n",
    "        database -- database containing image encodings along with the name of the person on the image\n",
    "        model -- your Inception model instance in Keras\n",
    "\n",
    "        Returns:\n",
    "        min_dist -- the minimum distance between image_path encoding and the encodings from the database\n",
    "        identity -- string, the name prediction for the person on image_path\n",
    "        \"\"\"\n",
    "\n",
    "        if threshold is None:\n",
    "            threshold = 0.7\n",
    "\n",
    "        ## Step 1: Compute the target \"encoding\" for the image. Use img_to_encoding() see example above. ## (≈ 1 line)\n",
    "        encoding = img_to_encoding(image_path, self.model)\n",
    "\n",
    "        ## Step 2: Find the closest encoding ##\n",
    "\n",
    "        # Initialize \"min_dist\" to a large value, say 100 (≈1 line)\n",
    "        min_dist = 100\n",
    "        identity = None\n",
    "\n",
    "        # Loop over the database dictionary's names and encodings.\n",
    "        for (name, db_enc) in database.items():\n",
    "\n",
    "            # Compute L2 distance between the target \"encoding\" and the current \"emb\" from the database. (≈ 1 line)\n",
    "            dist = np.linalg.norm(db_enc - encoding)\n",
    "\n",
    "            # If this distance is less than the min_dist, then set min_dist to dist, and identity to name. (≈ 3 lines)\n",
    "            if dist < min_dist:\n",
    "                min_dist = dist\n",
    "                identity = name\n",
    "\n",
    "        if min_dist > threshold:\n",
    "            print(\"Not in the database.\")\n",
    "        else:\n",
    "            print(\"it's \" + str(identity) + \", the distance is \" + str(min_dist))\n",
    "\n",
    "        return min_dist, identity"
   ]
  },
  {
   "cell_type": "markdown",
   "metadata": {},
   "source": [
    "## Применяем модель\n",
    "\n",
    "Сначала загрузим ее:"
   ]
  },
  {
   "cell_type": "code",
   "execution_count": 5,
   "metadata": {},
   "outputs": [
    {
     "name": "stdout",
     "output_type": "stream",
     "text": [
      "Total Params: 3743280\n"
     ]
    }
   ],
   "source": [
    "model_dir_path = 'models'\n",
    "image_dir_path = \"data/images\"\n",
    "\n",
    "fnet = FaceNet()\n",
    "fnet.load_model(model_dir_path)"
   ]
  },
  {
   "cell_type": "markdown",
   "metadata": {},
   "source": [
    "### Face Verification\n",
    "\n",
    "Построим БД с кодировками людей, у кого есть пропуск. `img_to_encoding(image_path, model)` это просто forward pass модели."
   ]
  },
  {
   "cell_type": "code",
   "execution_count": 6,
   "metadata": {},
   "outputs": [],
   "source": [
    "database = dict()\n",
    "database[\"danielle\"] = fnet.img_to_encoding(image_dir_path + \"/danielle.png\")\n",
    "database[\"younes\"] = fnet.img_to_encoding(image_dir_path + \"/younes.jpg\")\n",
    "database[\"tian\"] = fnet.img_to_encoding(image_dir_path + \"/tian.jpg\")\n",
    "database[\"andrew\"] = fnet.img_to_encoding(image_dir_path + \"/andrew.jpg\")\n",
    "database[\"kian\"] = fnet.img_to_encoding(image_dir_path + \"/kian.jpg\")\n",
    "database[\"dan\"] = fnet.img_to_encoding(image_dir_path + \"/dan.jpg\")\n",
    "database[\"sebastiano\"] = fnet.img_to_encoding(image_dir_path + \"/sebastiano.jpg\")\n",
    "database[\"bertrand\"] = fnet.img_to_encoding(image_dir_path + \"/bertrand.jpg\")\n",
    "database[\"kevin\"] = fnet.img_to_encoding(image_dir_path + \"/kevin.jpg\")\n",
    "database[\"felix\"] = fnet.img_to_encoding(image_dir_path + \"/felix.jpg\")\n",
    "database[\"benoit\"] = fnet.img_to_encoding(image_dir_path + \"/benoit.jpg\")\n",
    "database[\"arnaud\"] = fnet.img_to_encoding(image_dir_path + \"/arnaud.jpg\")"
   ]
  },
  {
   "cell_type": "markdown",
   "metadata": {},
   "source": [
    "Пример картинок из базы:"
   ]
  },
  {
   "cell_type": "code",
   "execution_count": 7,
   "metadata": {},
   "outputs": [
    {
     "data": {
      "image/png": "[encoded data removed]",
      "text/plain": [
       "<PIL.JpegImagePlugin.JpegImageFile image mode=RGB size=96x96 at 0x7F56B79D14A8>"
      ]
     },
     "execution_count": 7,
     "metadata": {},
     "output_type": "execute_result"
    }
   ],
   "source": [
    "Image.open(image_dir_path + \"/younes.jpg\")"
   ]
  },
  {
   "cell_type": "code",
   "execution_count": 8,
   "metadata": {},
   "outputs": [
    {
     "data": {
      "image/png": "[encoded data removed]",
      "text/plain": [
       "<PIL.JpegImagePlugin.JpegImageFile image mode=RGB size=96x96 at 0x7F56BA3E6978>"
      ]
     },
     "execution_count": 8,
     "metadata": {},
     "output_type": "execute_result"
    }
   ],
   "source": [
    "Image.open(image_dir_path + \"/kian.jpg\")"
   ]
  },
  {
   "cell_type": "markdown",
   "metadata": {},
   "source": [
    "Теперь к нам пришел какой-то чувак и показал свой пропуск, мы также получили его фото с камеры:"
   ]
  },
  {
   "cell_type": "code",
   "execution_count": 9,
   "metadata": {},
   "outputs": [
    {
     "data": {
      "image/png": "[encoded data removed]",
      "text/plain": [
       "<PIL.JpegImagePlugin.JpegImageFile image mode=RGB size=96x96 at 0x7F56BA3E6F28>"
      ]
     },
     "execution_count": 9,
     "metadata": {},
     "output_type": "execute_result"
    }
   ],
   "source": [
    "Image.open(image_dir_path + \"/camera_0.jpg\")"
   ]
  },
  {
   "cell_type": "markdown",
   "metadata": {},
   "source": [
    "В пропуске написано, что это younes. Прогоняем сетку, чтобы проверить это.\n",
    "\n",
    "Но прежде вам нужно реализовать метод `verify`.\n",
    "\n",
    "**Задание 2:** реализовать метод `verify`, используя L2 distance (np.linalg.norm)"
   ]
  },
  {
   "cell_type": "code",
   "execution_count": 10,
   "metadata": {
    "scrolled": true
   },
   "outputs": [
    {
     "name": "stdout",
     "output_type": "stream",
     "text": [
      "It's younes\n"
     ]
    },
    {
     "data": {
      "text/plain": [
       "(0.6710065007209778, True)"
      ]
     },
     "execution_count": 10,
     "metadata": {},
     "output_type": "execute_result"
    }
   ],
   "source": [
    "fnet.verify(image_dir_path + \"/camera_0.jpg\", \"younes\", database)"
   ]
  },
  {
   "cell_type": "markdown",
   "metadata": {},
   "source": [
    "**Expected Output**:\n",
    "\n",
    "<table>\n",
    "    <tr>\n",
    "        <td>\n",
    "            **It's younes**\n",
    "        </td>\n",
    "        <td>\n",
    "           (0.6709995269775391, True)\n",
    "        </td>\n",
    "    </tr>\n",
    "\n",
    "</table>"
   ]
  },
  {
   "cell_type": "markdown",
   "metadata": {},
   "source": [
    "Теперь пришел какой-то другой чувак и представился как kian:"
   ]
  },
  {
   "cell_type": "code",
   "execution_count": 11,
   "metadata": {},
   "outputs": [
    {
     "data": {
      "image/png": "[encoded data removed]",
      "text/plain": [
       "<PIL.JpegImagePlugin.JpegImageFile image mode=RGB size=96x96 at 0x7F56B79E7EF0>"
      ]
     },
     "execution_count": 11,
     "metadata": {},
     "output_type": "execute_result"
    }
   ],
   "source": [
    "Image.open(image_dir_path + \"/camera_2.jpg\")"
   ]
  },
  {
   "cell_type": "code",
   "execution_count": 12,
   "metadata": {},
   "outputs": [
    {
     "name": "stdout",
     "output_type": "stream",
     "text": [
      "It's not kian\n"
     ]
    },
    {
     "data": {
      "text/plain": [
       "(0.8580015897750854, False)"
      ]
     },
     "execution_count": 12,
     "metadata": {},
     "output_type": "execute_result"
    }
   ],
   "source": [
    "fnet.verify(image_dir_path + \"/camera_2.jpg\", \"kian\", database)"
   ]
  },
  {
   "cell_type": "markdown",
   "metadata": {},
   "source": [
    "**Expected Output**:\n",
    "\n",
    "<table>\n",
    "    <tr>\n",
    "        <td>\n",
    "            **It's not kian**\n",
    "        </td>\n",
    "        <td>\n",
    "           (0.858001172542572, False)\n",
    "        </td>\n",
    "    </tr>\n",
    "\n",
    "</table>"
   ]
  },
  {
   "cell_type": "markdown",
   "metadata": {},
   "source": [
    "### Face Recognition\n",
    "\n",
    "Теперь реализуем Face Recognition:\n",
    "\n",
    "**Задание 3**: Реализовать `who_is_it()`:\n",
    "1. Посчитать кодировку входного изображения\n",
    "2. Найти в БД кодировку с минимальным расстоянием до входной\n",
    "3. Если значение расстояния меньше порога – это искомый человек, иначе он отсутствует в БД"
   ]
  },
  {
   "cell_type": "code",
   "execution_count": 13,
   "metadata": {},
   "outputs": [
    {
     "name": "stdout",
     "output_type": "stream",
     "text": [
      "it's younes, the distance is 0.671007\n"
     ]
    },
    {
     "data": {
      "text/plain": [
       "(0.6710065, 'younes')"
      ]
     },
     "execution_count": 13,
     "metadata": {},
     "output_type": "execute_result"
    }
   ],
   "source": [
    "fnet.who_is_it(image_dir_path + \"/camera_0.jpg\", database)"
   ]
  },
  {
   "cell_type": "markdown",
   "metadata": {},
   "source": [
    "**Expected Output**:\n",
    "\n",
    "<table>\n",
    "    <tr>\n",
    "        <td>\n",
    "            **it's younes, the distance is 0.671**\n",
    "        </td>\n",
    "        <td>\n",
    "           (0.67099953, 'younes')\n",
    "        </td>\n",
    "    </tr>\n",
    "\n",
    "</table>"
   ]
  },
  {
   "cell_type": "code",
   "execution_count": 14,
   "metadata": {},
   "outputs": [
    {
     "name": "stdout",
     "output_type": "stream",
     "text": [
      "it's bertrand, the distance is 0.467402\n"
     ]
    },
    {
     "data": {
      "text/plain": [
       "(0.46740165, 'bertrand')"
      ]
     },
     "execution_count": 14,
     "metadata": {},
     "output_type": "execute_result"
    }
   ],
   "source": [
    "fnet.who_is_it(image_dir_path + \"/camera_1.jpg\", database)"
   ]
  },
  {
   "cell_type": "markdown",
   "metadata": {},
   "source": [
    "**Expected Output**:\n",
    "\n",
    "<table>\n",
    "    <tr>\n",
    "        <td>\n",
    "            **it's bertrand, the distance is 0.467409**\n",
    "        </td>\n",
    "        <td>\n",
    "           (0.46740928, 'bertrand')\n",
    "        </td>\n",
    "    </tr>\n",
    "\n",
    "</table>"
   ]
  },
  {
   "cell_type": "markdown",
   "metadata": {},
   "source": [
    "**Как улучшить:**\n",
    "- Больше картинок для каждого человека в БД\n",
    "- Обрезать картинки сильнее, минимизировать влияние фона"
   ]
  },
  {
   "cell_type": "markdown",
   "metadata": {},
   "source": [
    "<font color='blue'>\n",
    "**Надо запомнить**\n",
    "- Face verification -- 1:1 matching\n",
    "- Face recognition -- 1:K matching (harder)\n",
    "- Triplet loss позволяет выучить кодировки для изображений лиц\n",
    "- Кодировки переиспользуются для verification и recognition"
   ]
  },
  {
   "cell_type": "markdown",
   "metadata": {},
   "source": [
    "### Ссылки:\n",
    "\n",
    "- Florian Schroff, Dmitry Kalenichenko, James Philbin (2015). [FaceNet: A Unified Embedding for Face Recognition and Clustering](https://arxiv.org/pdf/1503.03832.pdf)\n",
    "- Yaniv Taigman, Ming Yang, Marc'Aurelio Ranzato, Lior Wolf (2014). [DeepFace: Closing the gap to human-level performance in face verification](https://research.fb.com/wp-content/uploads/2016/11/deepface-closing-the-gap-to-human-level-performance-in-face-verification.pdf) \n",
    "- The pretrained model by Victor Sy Wang's: https://github.com/iwantooxxoox/Keras-OpenFace.\n",
    "- Official FaceNet github repository: https://github.com/davidsandberg/facenet "
   ]
  }
 ],
 "metadata": {
  "kernelspec": {
   "display_name": "Python 3",
   "language": "python",
   "name": "python3"
  },
  "language_info": {
   "codemirror_mode": {
    "name": "ipython",
    "version": 3
   },
   "file_extension": ".py",
   "mimetype": "text/x-python",
   "name": "python",
   "nbconvert_exporter": "python",
   "pygments_lexer": "ipython3",
   "version": "3.6.3"
  }
 },
 "nbformat": 4,
 "nbformat_minor": 2
}
