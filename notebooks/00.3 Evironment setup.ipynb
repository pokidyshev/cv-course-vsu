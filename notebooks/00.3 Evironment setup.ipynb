{
 "cells": [
  {
   "cell_type": "markdown",
   "metadata": {},
   "source": [
    "# Evironment setup\n",
    "\n",
    "## Install CUDA\n",
    "Follow the instruction from Mircosoft, but use the package from NVIDIA site. Don't forget to do the update.\n",
    "\n",
    "https://docs.microsoft.com/en-us/azure/virtual-machines/linux/n-series-driver-setup\n",
    "\n",
    "https://developer.nvidia.com/cuda-downloads\n",
    "\n",
    "## Install stuff\n",
    "```\n",
    "sudo apt-get install libsm6 libxrender1 libfontconfig1 ncdu pydf unzip gcc emacs-nox -y\n",
    "```\n",
    "\n",
    "## Install Anaconda\n",
    "From https://www.anaconda.com/distribution/\n",
    "```\n",
    "wget https://repo.anaconda.com/archive/Anaconda3-2018.12-Linux-x86_64.sh\n",
    "chmod +x Anaconda3-2018.12-Linux-x86_64.sh\n",
    "./Anaconda3-2018.12-Linux-x86_64.sh\n",
    "source ~/.bashrc\n",
    "\n",
    "```\n",
    "\n",
    "### Update conda and install the necessary packages:\n",
    "```\n",
    "conda update -n base -c defaults conda -y\n",
    "conda create -n basics python=3.7 -y\n",
    "conda activate basics\n",
    "conda install -c conda-forge ipython numpy scipy pillow opencv h5py matplotlib imageio -y\n",
    "```\n",
    "\n",
    "#### Create PyTorch environment:\n",
    "```\n",
    "conda create --name pt_gpu --clone basics -y\n",
    "conda activate pt_gpu\n",
    "```\n",
    "\n",
    "#### Follow PyTorch installation instructions:\n",
    "```\n",
    "conda install pytorch torchvision cudatoolkit=10.0 -c pytorch -y\n",
    "conda install -c conda-forge tensorboardx -y\n",
    "```\n",
    "#### Create TensorFlow environment:\n",
    "```\n",
    "conda create -n tf_gpu python=3.6 ipython numpy scipy pillow opencv h5py matplotlib imageio tensorflow-gpu -y\n",
    "```\n",
    "\n",
    "#### Add environments to Jupyter\n",
    "##### PyTorch\n",
    "```\n",
    "conda activate pt_gpu\n",
    "conda install ipykernel -y\n",
    "python -m ipykernel install --user --name pt_gpu --display-name \"Python 3.7 PyTorch GPU\"\n",
    "```\n",
    "##### TensorFlow\n",
    "```\n",
    "conda activate tf_gpu\n",
    "conda install ipykernel -y\n",
    "python -m ipykernel install --user --name tf_gpu --display-name \"Python 3.6 TensorFlow GPU\"\n",
    "```"
   ]
  },
  {
   "cell_type": "code",
   "execution_count": null,
   "metadata": {},
   "outputs": [],
   "source": []
  }
 ],
 "metadata": {
  "kernelspec": {
   "display_name": "Python 3",
   "language": "python",
   "name": "python3"
  },
  "language_info": {
   "codemirror_mode": {
    "name": "ipython",
    "version": 3
   },
   "file_extension": ".py",
   "mimetype": "text/x-python",
   "name": "python",
   "nbconvert_exporter": "python",
   "pygments_lexer": "ipython3",
   "version": "3.7.3"
  }
 },
 "nbformat": 4,
 "nbformat_minor": 2
}
